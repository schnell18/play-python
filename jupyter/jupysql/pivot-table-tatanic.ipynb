{
 "cells": [
  {
   "cell_type": "code",
   "execution_count": 40,
   "id": "0a3d1507-9f93-400b-b382-a900da45d6f7",
   "metadata": {},
   "outputs": [],
   "source": [
    "import pandas as pd\n",
    "import numpy as np\n",
    "import seaborn as sns\n",
    "from urllib.request import urlretrieve\n",
    "\n"
   ]
  },
  {
   "cell_type": "code",
   "execution_count": null,
   "id": "3befe6dc-8c2a-44dc-a4e4-950372bae528",
   "metadata": {},
   "outputs": [],
   "source": [
    "\n",
    "tatanic = sns.load_dataset('titanic')"
   ]
  },
  {
   "cell_type": "code",
   "execution_count": null,
   "id": "731516cc-bfab-4aff-8d55-f0d6ef645b0f",
   "metadata": {},
   "outputs": [],
   "source": [
    "tatanic.groupby(['sex', 'class'])['survived'].aggregate('mean').unstack()"
   ]
  },
  {
   "cell_type": "code",
   "execution_count": null,
   "id": "944c84ea-8fac-4bad-9d49-ce40de59399f",
   "metadata": {},
   "outputs": [],
   "source": [
    "tatanic.pivot_table('survived', index='sex', columns='class')"
   ]
  },
  {
   "cell_type": "code",
   "execution_count": null,
   "id": "d9c3b026-9142-4b96-a4c7-ec35440e35f1",
   "metadata": {},
   "outputs": [],
   "source": [
    "age = pd.cut(tatanic['age'], [0, 18, 80])"
   ]
  },
  {
   "cell_type": "code",
   "execution_count": null,
   "id": "e2bb9782-8c1d-4bf7-9457-ce81929ecf8d",
   "metadata": {},
   "outputs": [],
   "source": [
    "tatanic.isnull().any()"
   ]
  },
  {
   "cell_type": "code",
   "execution_count": null,
   "id": "6b0e0ac3-d225-4f81-a16f-f9f4f1ca0ef5",
   "metadata": {},
   "outputs": [],
   "source": [
    "tatanic.pivot_table(index='sex', columns='class', aggfunc={'survived':'sum', 'fare': 'mean'})"
   ]
  },
  {
   "cell_type": "code",
   "execution_count": null,
   "id": "7f3a8c8d-895c-468e-a6a7-173d1d19cc88",
   "metadata": {},
   "outputs": [],
   "source": [
    "tatanic.pivot_table('survived', index='sex', columns='class', margins=True)"
   ]
  },
  {
   "cell_type": "code",
   "execution_count": null,
   "id": "e6141399-9bb1-4fd8-acf3-fff36cbdd047",
   "metadata": {},
   "outputs": [],
   "source": [
    "_ = urlretrieve(\n",
    "    \"http://ftp.apnic.net/apnic/stats/apnic/delegated-apnic-latest\",\n",
    "    \"apnic.csv\",\n",
    ")\n",
    "\n"
   ]
  }
 ],
 "metadata": {
  "kernelspec": {
   "display_name": "Python 3 (ipykernel)",
   "language": "python",
   "name": "python3"
  },
  "language_info": {
   "codemirror_mode": {
    "name": "ipython",
    "version": 3
   },
   "file_extension": ".py",
   "mimetype": "text/x-python",
   "name": "python",
   "nbconvert_exporter": "python",
   "pygments_lexer": "ipython3",
   "version": "3.9.7"
  }
 },
 "nbformat": 4,
 "nbformat_minor": 5
}
