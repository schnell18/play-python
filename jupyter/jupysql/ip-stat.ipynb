{
 "cells": [
  {
   "cell_type": "markdown",
   "id": "a8ec7edc-732c-4090-9f34-0e3ab579fc45",
   "metadata": {},
   "source": [
    "## Preparation"
   ]
  },
  {
   "cell_type": "code",
   "execution_count": 1,
   "id": "8b49c2eb-efce-4d26-8fe4-495447f421e3",
   "metadata": {},
   "outputs": [],
   "source": [
    "from urllib.request import urlretrieve\n",
    "\n",
    "_ = urlretrieve(\n",
    "    \"http://ftp.apnic.net/apnic/stats/apnic/delegated-apnic-latest\",\n",
    "    \"apnic.csv\",\n",
    ")\n",
    "%pip install jupysql duckdb duckdb-engine --quiet"
   ]
  },
  {
   "cell_type": "code",
   "execution_count": 2,
   "id": "df82aad2-f6f9-46da-be8e-a2c731461ca9",
   "metadata": {},
   "outputs": [],
   "source": [
    "import pandas as pd\n",
    "import numpy as np"
   ]
  },
  {
   "cell_type": "code",
   "execution_count": 3,
   "id": "68212b20-6532-4c18-aeae-1ee0b71d6e5b",
   "metadata": {},
   "outputs": [],
   "source": [
    "\n",
    "%load_ext sql\n",
    "%sql duckdb://"
   ]
  },
  {
   "cell_type": "markdown",
   "id": "67b14dae-cdc8-40a8-b2c0-114b2388c7ad",
   "metadata": {},
   "source": [
    "## 窗口函数示例"
   ]
  },
  {
   "cell_type": "code",
   "execution_count": null,
   "id": "90d4972f-886b-47eb-94e8-a7a6a42f7706",
   "metadata": {},
   "outputs": [],
   "source": [
    "%%sql\n",
    "select rank_dense() over (order by cnt desc) as rank,\n",
    "       country,\n",
    "       cnt,\n",
    "       round(100.0 * cnt / sum(cnt) over (), 3) as pct\n",
    " from (select country,\n",
    "              sum(count) as cnt\n",
    "         from apnic.csv\n",
    "        group by country\n",
    "        order by 2 desc\n",
    "       )\n"
   ]
  },
  {
   "cell_type": "code",
   "execution_count": 18,
   "id": "30f6454c-e840-4ad0-9c52-69c7624edcd6",
   "metadata": {},
   "outputs": [
    {
     "data": {
      "text/plain": [
       "array([[ 2.        ,  2.09090909,  2.18181818, ..., 10.81818182,\n",
       "        10.90909091, 11.        ],\n",
       "       [ 2.09090909,  2.18181818,  2.27272727, ..., 10.90909091,\n",
       "        11.        , 11.09090909],\n",
       "       [ 2.18181818,  2.27272727,  2.36363636, ..., 11.        ,\n",
       "        11.09090909, 11.18181818],\n",
       "       ...,\n",
       "       [10.81818182, 10.90909091, 11.        , ..., 19.63636364,\n",
       "        19.72727273, 19.81818182],\n",
       "       [10.90909091, 11.        , 11.09090909, ..., 19.72727273,\n",
       "        19.81818182, 19.90909091],\n",
       "       [11.        , 11.09090909, 11.18181818, ..., 19.81818182,\n",
       "        19.90909091, 20.        ]])"
      ]
     },
     "execution_count": 18,
     "metadata": {},
     "output_type": "execute_result"
    }
   ],
   "source": [
    "x = np.linspace(1, 10, 100)\n",
    "y = x[:, np.newaxis] + x[np.newaxis, :]\n",
    "y"
   ]
  }
 ],
 "metadata": {
  "kernelspec": {
   "display_name": "Python 3 (ipykernel)",
   "language": "python",
   "name": "python3"
  },
  "language_info": {
   "codemirror_mode": {
    "name": "ipython",
    "version": 3
   },
   "file_extension": ".py",
   "mimetype": "text/x-python",
   "name": "python",
   "nbconvert_exporter": "python",
   "pygments_lexer": "ipython3",
   "version": "3.9.7"
  }
 },
 "nbformat": 4,
 "nbformat_minor": 5
}
